{
 "cells": [
  {
   "cell_type": "markdown",
   "metadata": {},
   "source": [
    "# Accessing Chicago Data with SQLite and Python\n",
    "The datasets used in this project are as follows:\n",
    "- **ChicagoCensusData.csv**: Socioeconomic data for the years 2008-2012. The data set and more information on it can be found [here.](https://data.cityofchicago.org/Health-Human-Services/Census-Data-Selected-socioeconomic-indicators-in-C/kn9c-c2s2/about_data?cm_mmc=Email_Newsletter-_-Developer_Ed%2BTech-_-WW_WW-_-SkillsNetwork-Courses-IBMDeveloperSkillsNetwork-DB0201EN-SkillsNetwork-20127838&cm_mmca1=000026UJ&cm_mmca2=10006555&cm_mmca3=M12345678&cvo_campaign=000026UJ&cvosrc=email.Newsletter.M12345678&utm_content=000026UJ&utm_id=NA-SkillsNetwork-Channel-SkillsNetworkCoursesIBMDeveloperSkillsNetworkDB0201ENSkillsNetwork20127838-2021-01-01&utm_medium=Exinfluencer&utm_source=Exinfluencer&utm_term=10006555 \"Census Data\")\n",
    "- **ChicagoPublicSchool**: 2011-2012 data on school performance levels used to create report cards. More information can be found on the [website](https://data.cityofchicago.org/Education/Chicago-Public-Schools-Progress-Report-Cards-2011-/9xs2-f89t/about_data?cm_mmc=Email_Newsletter-_-Developer_Ed%2BTech-_-WW_WW-_-SkillsNetwork-Courses-IBMDeveloperSkillsNetwork-DB0201EN-SkillsNetwork-20127838&cm_mmca1=000026UJ&cm_mmca2=10006555&cm_mmca3=M12345678&cvo_campaign=000026UJ&cvosrc=email.Newsletter.M12345678&utm_content=000026UJ&utm_id=NA-SkillsNetwork-Channel-SkillsNetworkCoursesIBMDeveloperSkillsNetworkDB0201ENSkillsNetwork20127838-2021-01-01&utm_medium=Exinfluencer&utm_source=Exinfluencer&utm_term=10006555 \"Chicago Schools\")\n",
    "- **ChicagoCrimeData**: the data reflects reports instances of crime from the year 2021 and is publicly available [here](https://data.cityofchicago.org/Public-Safety/Crimes-2001-to-Present/ijzp-q8t2/about_data?cm_mmc=Email_Newsletter-_-Developer_Ed%2BTech-_-WW_WW-_-SkillsNetwork-Courses-IBMDeveloperSkillsNetwork-DB0201EN-SkillsNetwork-20127838&cm_mmca1=000026UJ&cm_mmca2=10006555&cm_mmca3=M12345678&cvo_campaign=000026UJ&cvosrc=email.Newsletter.M12345678&utm_content=000026UJ&utm_id=NA-SkillsNetwork-Channel-SkillsNetworkCoursesIBMDeveloperSkillsNetworkDB0201ENSkillsNetwork20127838-2021-01-01&utm_medium=Exinfluencer&utm_source=Exinfluencer&utm_term=10006555)\n",
    "\n",
    "To get started with the project, the required packages would first be imported. "
   ]
  },
  {
   "cell_type": "code",
   "execution_count": 16,
   "metadata": {},
   "outputs": [],
   "source": [
    "import pandas as pd \n",
    "import prettytable \n",
    "import sqlite3 \n",
    "\n",
    "prettytable.DEFAULT = 'DEFAULT'"
   ]
  },
  {
   "cell_type": "markdown",
   "metadata": {},
   "source": [
    "### Store The Data in Tables of a DB\n",
    "To do this, first establish a connection to a db. Then load the data a pandas dataframe and create the respective tables for the data in the database."
   ]
  },
  {
   "cell_type": "code",
   "execution_count": 2,
   "metadata": {},
   "outputs": [
    {
     "data": {
      "text/plain": [
       "566"
      ]
     },
     "execution_count": 2,
     "metadata": {},
     "output_type": "execute_result"
    }
   ],
   "source": [
    "# Create a db connection \n",
    "connection = sqlite3.connect('CHICAGO.db')\n",
    "cursor = connection.cursor()\n",
    "\n",
    "# Load the data sets to dataframes\n",
    "census_data = pd.read_csv('file_csv/ChicagoCensusData.csv')\n",
    "chicago_crime_data = pd.read_csv('file_csv/ChicagoCrimeData.csv')\n",
    "school_data = pd.read_csv('file_csv/ChicagoPublicSchools.csv')\n",
    "\n",
    "# Load the dataframes to the database\n",
    "census_data.to_sql('CENSUS_DATA', connection, if_exists='replace', index=False)\n",
    "chicago_crime_data.to_sql('CHICAGO_CRIME_DATA', connection, if_exists='replace', index=False)\n",
    "school_data.to_sql('CHICAGO_PUBLIC_SCHOOLS', connection, if_exists='replace', index=False)"
   ]
  },
  {
   "cell_type": "markdown",
   "metadata": {},
   "source": [
    "## Use SQL Magic to answer questions about the data\n",
    "First create a connection to the database with sqlmagic."
   ]
  },
  {
   "cell_type": "code",
   "execution_count": null,
   "metadata": {},
   "outputs": [
    {
     "name": "stdout",
     "output_type": "stream",
     "text": [
      "The sql extension is already loaded. To reload it, use:\n",
      "  %reload_ext sql\n"
     ]
    }
   ],
   "source": [
    "# Connect SQL Magic to the database\n",
    "%load_ext sql \n",
    "%sql sqlite:///CHICAGO.db\n"
   ]
  },
  {
   "cell_type": "markdown",
   "metadata": {},
   "source": [
    "Find the total number of crimes recorded.\n"
   ]
  },
  {
   "cell_type": "code",
   "execution_count": 33,
   "metadata": {},
   "outputs": [
    {
     "name": "stdout",
     "output_type": "stream",
     "text": [
      " * sqlite:///CHICAGO.db\n",
      "Done.\n"
     ]
    },
    {
     "data": {
      "text/html": [
       "<table>\n",
       "    <thead>\n",
       "        <tr>\n",
       "            <th>TOTAL_CRIME</th>\n",
       "        </tr>\n",
       "    </thead>\n",
       "    <tbody>\n",
       "        <tr>\n",
       "            <td>533</td>\n",
       "        </tr>\n",
       "    </tbody>\n",
       "</table>"
      ],
      "text/plain": [
       "[(533,)]"
      ]
     },
     "execution_count": 33,
     "metadata": {},
     "output_type": "execute_result"
    }
   ],
   "source": [
    "%sql SELECT COUNT(PRIMARY_TYPE) AS TOTAL_CRIME FROM CHICAGO_CRIME_DATA;\n"
   ]
  },
  {
   "cell_type": "markdown",
   "metadata": {},
   "source": [
    "List community area names and numbers with per capita income less than 11000."
   ]
  },
  {
   "cell_type": "code",
   "execution_count": 23,
   "metadata": {},
   "outputs": [
    {
     "name": "stdout",
     "output_type": "stream",
     "text": [
      " * sqlite:///CHICAGO.db\n",
      "Done.\n"
     ]
    },
    {
     "data": {
      "text/html": [
       "<table>\n",
       "    <thead>\n",
       "        <tr>\n",
       "            <th>COMMUNITY_AREA_NAME</th>\n",
       "            <th>COMMUNITY_AREA_NUMBER</th>\n",
       "            <th>PER_CAPITA_INCOME</th>\n",
       "        </tr>\n",
       "    </thead>\n",
       "    <tbody>\n",
       "        <tr>\n",
       "            <td>West Garfield Park</td>\n",
       "            <td>26.0</td>\n",
       "            <td>10934</td>\n",
       "        </tr>\n",
       "        <tr>\n",
       "            <td>South Lawndale</td>\n",
       "            <td>30.0</td>\n",
       "            <td>10402</td>\n",
       "        </tr>\n",
       "        <tr>\n",
       "            <td>Fuller Park</td>\n",
       "            <td>37.0</td>\n",
       "            <td>10432</td>\n",
       "        </tr>\n",
       "        <tr>\n",
       "            <td>Riverdale</td>\n",
       "            <td>54.0</td>\n",
       "            <td>8201</td>\n",
       "        </tr>\n",
       "    </tbody>\n",
       "</table>"
      ],
      "text/plain": [
       "[('West Garfield Park', 26.0, 10934),\n",
       " ('South Lawndale', 30.0, 10402),\n",
       " ('Fuller Park', 37.0, 10432),\n",
       " ('Riverdale', 54.0, 8201)]"
      ]
     },
     "execution_count": 23,
     "metadata": {},
     "output_type": "execute_result"
    }
   ],
   "source": [
    "%sql SELECT COMMUNITY_AREA_NAME, COMMUNITY_AREA_NUMBER, PER_CAPITA_INCOME FROM CENSUS_DATA WHERE PER_CAPITA_INCOME < 11000;"
   ]
  },
  {
   "cell_type": "markdown",
   "metadata": {},
   "source": [
    "List all case numbers for crimes involving minors (children are not considered minors for the purposes of crime analysis)"
   ]
  },
  {
   "cell_type": "code",
   "execution_count": 30,
   "metadata": {},
   "outputs": [
    {
     "name": "stdout",
     "output_type": "stream",
     "text": [
      " * sqlite:///CHICAGO.db\n",
      "Done.\n"
     ]
    },
    {
     "data": {
      "text/html": [
       "<table>\n",
       "    <thead>\n",
       "        <tr>\n",
       "            <th>CASE_NUMBER</th>\n",
       "        </tr>\n",
       "    </thead>\n",
       "    <tbody>\n",
       "        <tr>\n",
       "            <td>HK456306</td>\n",
       "        </tr>\n",
       "        <tr>\n",
       "            <td>HT233595</td>\n",
       "        </tr>\n",
       "        <tr>\n",
       "            <td>HZ138551</td>\n",
       "        </tr>\n",
       "        <tr>\n",
       "            <td>HS540106</td>\n",
       "        </tr>\n",
       "        <tr>\n",
       "            <td>HZ534771</td>\n",
       "        </tr>\n",
       "        <tr>\n",
       "            <td>HL149610</td>\n",
       "        </tr>\n",
       "        <tr>\n",
       "            <td>HK361551</td>\n",
       "        </tr>\n",
       "        <tr>\n",
       "            <td>HT180228</td>\n",
       "        </tr>\n",
       "        <tr>\n",
       "            <td>HV243612</td>\n",
       "        </tr>\n",
       "        <tr>\n",
       "            <td>HY396729</td>\n",
       "        </tr>\n",
       "        <tr>\n",
       "            <td>HX332132</td>\n",
       "        </tr>\n",
       "        <tr>\n",
       "            <td>HW303994</td>\n",
       "        </tr>\n",
       "        <tr>\n",
       "            <td>HN484464</td>\n",
       "        </tr>\n",
       "        <tr>\n",
       "            <td>HR582990</td>\n",
       "        </tr>\n",
       "        <tr>\n",
       "            <td>HR535632</td>\n",
       "        </tr>\n",
       "        <tr>\n",
       "            <td>HW441620</td>\n",
       "        </tr>\n",
       "        <tr>\n",
       "            <td>HJ561433</td>\n",
       "        </tr>\n",
       "        <tr>\n",
       "            <td>HR583513</td>\n",
       "        </tr>\n",
       "        <tr>\n",
       "            <td>HS681158</td>\n",
       "        </tr>\n",
       "        <tr>\n",
       "            <td>G256545</td>\n",
       "        </tr>\n",
       "        <tr>\n",
       "            <td>JA272438</td>\n",
       "        </tr>\n",
       "        <tr>\n",
       "            <td>HH201585</td>\n",
       "        </tr>\n",
       "        <tr>\n",
       "            <td>HL590300</td>\n",
       "        </tr>\n",
       "        <tr>\n",
       "            <td>HL409680</td>\n",
       "        </tr>\n",
       "        <tr>\n",
       "            <td>G662598</td>\n",
       "        </tr>\n",
       "        <tr>\n",
       "            <td>HL680775</td>\n",
       "        </tr>\n",
       "        <tr>\n",
       "            <td>HM543491</td>\n",
       "        </tr>\n",
       "        <tr>\n",
       "            <td>HY167451</td>\n",
       "        </tr>\n",
       "        <tr>\n",
       "            <td>HY377901</td>\n",
       "        </tr>\n",
       "        <tr>\n",
       "            <td>HJ308632</td>\n",
       "        </tr>\n",
       "        <tr>\n",
       "            <td>HK801112</td>\n",
       "        </tr>\n",
       "        <tr>\n",
       "            <td>JA261898</td>\n",
       "        </tr>\n",
       "        <tr>\n",
       "            <td>JA559176</td>\n",
       "        </tr>\n",
       "        <tr>\n",
       "            <td>JA412895</td>\n",
       "        </tr>\n",
       "        <tr>\n",
       "            <td>HY273740</td>\n",
       "        </tr>\n",
       "        <tr>\n",
       "            <td>HZ224258</td>\n",
       "        </tr>\n",
       "        <tr>\n",
       "            <td>HJ652747</td>\n",
       "        </tr>\n",
       "        <tr>\n",
       "            <td>G040244</td>\n",
       "        </tr>\n",
       "        <tr>\n",
       "            <td>HJ415128</td>\n",
       "        </tr>\n",
       "        <tr>\n",
       "            <td>HV534721</td>\n",
       "        </tr>\n",
       "        <tr>\n",
       "            <td>JA503725</td>\n",
       "        </tr>\n",
       "        <tr>\n",
       "            <td>HP691879</td>\n",
       "        </tr>\n",
       "        <tr>\n",
       "            <td>HV537004</td>\n",
       "        </tr>\n",
       "        <tr>\n",
       "            <td>HX314361</td>\n",
       "        </tr>\n",
       "        <tr>\n",
       "            <td>HK728309</td>\n",
       "        </tr>\n",
       "        <tr>\n",
       "            <td>HL005270</td>\n",
       "        </tr>\n",
       "        <tr>\n",
       "            <td>HJ678713</td>\n",
       "        </tr>\n",
       "        <tr>\n",
       "            <td>HY412959</td>\n",
       "        </tr>\n",
       "        <tr>\n",
       "            <td>HX155070</td>\n",
       "        </tr>\n",
       "        <tr>\n",
       "            <td>HV402967</td>\n",
       "        </tr>\n",
       "        <tr>\n",
       "            <td>HX332979</td>\n",
       "        </tr>\n",
       "        <tr>\n",
       "            <td>HJ710634</td>\n",
       "        </tr>\n",
       "        <tr>\n",
       "            <td>HX165034</td>\n",
       "        </tr>\n",
       "        <tr>\n",
       "            <td>HH702524</td>\n",
       "        </tr>\n",
       "        <tr>\n",
       "            <td>JA384163</td>\n",
       "        </tr>\n",
       "        <tr>\n",
       "            <td>HJ672058</td>\n",
       "        </tr>\n",
       "        <tr>\n",
       "            <td>HY202462</td>\n",
       "        </tr>\n",
       "        <tr>\n",
       "            <td>HX354359</td>\n",
       "        </tr>\n",
       "        <tr>\n",
       "            <td>HZ146741</td>\n",
       "        </tr>\n",
       "        <tr>\n",
       "            <td>G376790</td>\n",
       "        </tr>\n",
       "        <tr>\n",
       "            <td>HX262353</td>\n",
       "        </tr>\n",
       "        <tr>\n",
       "            <td>HP317516</td>\n",
       "        </tr>\n",
       "        <tr>\n",
       "            <td>HZ335434</td>\n",
       "        </tr>\n",
       "        <tr>\n",
       "            <td>HS678732</td>\n",
       "        </tr>\n",
       "        <tr>\n",
       "            <td>HL382289</td>\n",
       "        </tr>\n",
       "        <tr>\n",
       "            <td>HM392612</td>\n",
       "        </tr>\n",
       "        <tr>\n",
       "            <td>HH869886</td>\n",
       "        </tr>\n",
       "        <tr>\n",
       "            <td>HR460350</td>\n",
       "        </tr>\n",
       "        <tr>\n",
       "            <td>HM117889</td>\n",
       "        </tr>\n",
       "        <tr>\n",
       "            <td>HR576816</td>\n",
       "        </tr>\n",
       "        <tr>\n",
       "            <td>HZ372381</td>\n",
       "        </tr>\n",
       "        <tr>\n",
       "            <td>HZ556726</td>\n",
       "        </tr>\n",
       "        <tr>\n",
       "            <td>HK454598</td>\n",
       "        </tr>\n",
       "        <tr>\n",
       "            <td>HH657809</td>\n",
       "        </tr>\n",
       "    </tbody>\n",
       "</table>"
      ],
      "text/plain": [
       "[('HK456306',),\n",
       " ('HT233595',),\n",
       " ('HZ138551',),\n",
       " ('HS540106',),\n",
       " ('HZ534771',),\n",
       " ('HL149610',),\n",
       " ('HK361551',),\n",
       " ('HT180228',),\n",
       " ('HV243612',),\n",
       " ('HY396729',),\n",
       " ('HX332132',),\n",
       " ('HW303994',),\n",
       " ('HN484464',),\n",
       " ('HR582990',),\n",
       " ('HR535632',),\n",
       " ('HW441620',),\n",
       " ('HJ561433',),\n",
       " ('HR583513',),\n",
       " ('HS681158',),\n",
       " ('G256545',),\n",
       " ('JA272438',),\n",
       " ('HH201585',),\n",
       " ('HL590300',),\n",
       " ('HL409680',),\n",
       " ('G662598',),\n",
       " ('HL680775',),\n",
       " ('HM543491',),\n",
       " ('HY167451',),\n",
       " ('HY377901',),\n",
       " ('HJ308632',),\n",
       " ('HK801112',),\n",
       " ('JA261898',),\n",
       " ('JA559176',),\n",
       " ('JA412895',),\n",
       " ('HY273740',),\n",
       " ('HZ224258',),\n",
       " ('HJ652747',),\n",
       " ('G040244',),\n",
       " ('HJ415128',),\n",
       " ('HV534721',),\n",
       " ('JA503725',),\n",
       " ('HP691879',),\n",
       " ('HV537004',),\n",
       " ('HX314361',),\n",
       " ('HK728309',),\n",
       " ('HL005270',),\n",
       " ('HJ678713',),\n",
       " ('HY412959',),\n",
       " ('HX155070',),\n",
       " ('HV402967',),\n",
       " ('HX332979',),\n",
       " ('HJ710634',),\n",
       " ('HX165034',),\n",
       " ('HH702524',),\n",
       " ('JA384163',),\n",
       " ('HJ672058',),\n",
       " ('HY202462',),\n",
       " ('HX354359',),\n",
       " ('HZ146741',),\n",
       " ('G376790',),\n",
       " ('HX262353',),\n",
       " ('HP317516',),\n",
       " ('HZ335434',),\n",
       " ('HS678732',),\n",
       " ('HL382289',),\n",
       " ('HM392612',),\n",
       " ('HH869886',),\n",
       " ('HR460350',),\n",
       " ('HM117889',),\n",
       " ('HR576816',),\n",
       " ('HZ372381',),\n",
       " ('HZ556726',),\n",
       " ('HK454598',),\n",
       " ('HH657809',)]"
      ]
     },
     "execution_count": 30,
     "metadata": {},
     "output_type": "execute_result"
    }
   ],
   "source": [
    "%sql SELECT CASE_NUMBER FROM CHICAGO_CRIME_DATA WHERE DESCRIPTION LIKE '%$500%'"
   ]
  },
  {
   "cell_type": "markdown",
   "metadata": {},
   "source": [
    "List all kidnapping crimes involving a child"
   ]
  },
  {
   "cell_type": "code",
   "execution_count": 32,
   "metadata": {},
   "outputs": [
    {
     "name": "stdout",
     "output_type": "stream",
     "text": [
      " * sqlite:///CHICAGO.db\n",
      "Done.\n"
     ]
    },
    {
     "data": {
      "text/html": [
       "<table>\n",
       "    <thead>\n",
       "        <tr>\n",
       "            <th>ID</th>\n",
       "            <th>CASE_NUMBER</th>\n",
       "            <th>DATE</th>\n",
       "            <th>BLOCK</th>\n",
       "            <th>IUCR</th>\n",
       "            <th>PRIMARY_TYPE</th>\n",
       "            <th>DESCRIPTION</th>\n",
       "            <th>LOCATION_DESCRIPTION</th>\n",
       "            <th>ARREST</th>\n",
       "            <th>DOMESTIC</th>\n",
       "            <th>BEAT</th>\n",
       "            <th>DISTRICT</th>\n",
       "            <th>WARD</th>\n",
       "            <th>COMMUNITY_AREA_NUMBER</th>\n",
       "            <th>FBICODE</th>\n",
       "            <th>X_COORDINATE</th>\n",
       "            <th>Y_COORDINATE</th>\n",
       "            <th>YEAR</th>\n",
       "            <th>LATITUDE</th>\n",
       "            <th>LONGITUDE</th>\n",
       "            <th>LOCATION</th>\n",
       "        </tr>\n",
       "    </thead>\n",
       "    <tbody>\n",
       "        <tr>\n",
       "            <td>5276766</td>\n",
       "            <td>HN144152</td>\n",
       "            <td>2007-01-26</td>\n",
       "            <td>050XX W VAN BUREN ST</td>\n",
       "            <td>1792</td>\n",
       "            <td>KIDNAPPING</td>\n",
       "            <td>CHILD ABDUCTION/STRANGER</td>\n",
       "            <td>STREET</td>\n",
       "            <td>0</td>\n",
       "            <td>0</td>\n",
       "            <td>1533</td>\n",
       "            <td>15</td>\n",
       "            <td>29.0</td>\n",
       "            <td>25.0</td>\n",
       "            <td>20</td>\n",
       "            <td>1143050.0</td>\n",
       "            <td>1897546.0</td>\n",
       "            <td>2007</td>\n",
       "            <td>41.87490841</td>\n",
       "            <td>-87.75024931</td>\n",
       "            <td>(41.874908413, -87.750249307)</td>\n",
       "        </tr>\n",
       "    </tbody>\n",
       "</table>"
      ],
      "text/plain": [
       "[(5276766, 'HN144152', '2007-01-26', '050XX W VAN BUREN ST', '1792', 'KIDNAPPING', 'CHILD ABDUCTION/STRANGER', 'STREET', 0, 0, 1533, 15, 29.0, 25.0, '20', 1143050.0, 1897546.0, 2007, 41.87490841, -87.75024931, '(41.874908413, -87.750249307)')]"
      ]
     },
     "execution_count": 32,
     "metadata": {},
     "output_type": "execute_result"
    }
   ],
   "source": [
    "%sql SELECT * FROM CHICAGO_CRIME_DATA WHERE PRIMARY_TYPE LIKE '%KIDNAP%' AND DESCRIPTION LIKE '%CHILD%'"
   ]
  },
  {
   "cell_type": "markdown",
   "metadata": {},
   "source": [
    "List the kind of crimes that were recorded at schools"
   ]
  },
  {
   "cell_type": "code",
   "execution_count": 35,
   "metadata": {},
   "outputs": [
    {
     "name": "stdout",
     "output_type": "stream",
     "text": [
      " * sqlite:///CHICAGO.db\n",
      "Done.\n"
     ]
    },
    {
     "data": {
      "text/html": [
       "<table>\n",
       "    <thead>\n",
       "        <tr>\n",
       "            <th>PRIMARY_TYPE</th>\n",
       "            <th>LOCATION_DESCRIPTION</th>\n",
       "        </tr>\n",
       "    </thead>\n",
       "    <tbody>\n",
       "        <tr>\n",
       "            <td>BATTERY</td>\n",
       "            <td>SCHOOL, PUBLIC, GROUNDS</td>\n",
       "        </tr>\n",
       "        <tr>\n",
       "            <td>BATTERY</td>\n",
       "            <td>SCHOOL, PUBLIC, BUILDING</td>\n",
       "        </tr>\n",
       "        <tr>\n",
       "            <td>BATTERY</td>\n",
       "            <td>SCHOOL, PUBLIC, BUILDING</td>\n",
       "        </tr>\n",
       "        <tr>\n",
       "            <td>BATTERY</td>\n",
       "            <td>SCHOOL, PUBLIC, BUILDING</td>\n",
       "        </tr>\n",
       "        <tr>\n",
       "            <td>BATTERY</td>\n",
       "            <td>SCHOOL, PUBLIC, GROUNDS</td>\n",
       "        </tr>\n",
       "        <tr>\n",
       "            <td>CRIMINAL DAMAGE</td>\n",
       "            <td>SCHOOL, PUBLIC, GROUNDS</td>\n",
       "        </tr>\n",
       "        <tr>\n",
       "            <td>NARCOTICS</td>\n",
       "            <td>SCHOOL, PUBLIC, GROUNDS</td>\n",
       "        </tr>\n",
       "        <tr>\n",
       "            <td>NARCOTICS</td>\n",
       "            <td>SCHOOL, PUBLIC, BUILDING</td>\n",
       "        </tr>\n",
       "        <tr>\n",
       "            <td>ASSAULT</td>\n",
       "            <td>SCHOOL, PUBLIC, GROUNDS</td>\n",
       "        </tr>\n",
       "        <tr>\n",
       "            <td>CRIMINAL TRESPASS</td>\n",
       "            <td>SCHOOL, PUBLIC, GROUNDS</td>\n",
       "        </tr>\n",
       "        <tr>\n",
       "            <td>PUBLIC PEACE VIOLATION</td>\n",
       "            <td>SCHOOL, PRIVATE, BUILDING</td>\n",
       "        </tr>\n",
       "        <tr>\n",
       "            <td>PUBLIC PEACE VIOLATION</td>\n",
       "            <td>SCHOOL, PUBLIC, BUILDING</td>\n",
       "        </tr>\n",
       "    </tbody>\n",
       "</table>"
      ],
      "text/plain": [
       "[('BATTERY', 'SCHOOL, PUBLIC, GROUNDS'),\n",
       " ('BATTERY', 'SCHOOL, PUBLIC, BUILDING'),\n",
       " ('BATTERY', 'SCHOOL, PUBLIC, BUILDING'),\n",
       " ('BATTERY', 'SCHOOL, PUBLIC, BUILDING'),\n",
       " ('BATTERY', 'SCHOOL, PUBLIC, GROUNDS'),\n",
       " ('CRIMINAL DAMAGE', 'SCHOOL, PUBLIC, GROUNDS'),\n",
       " ('NARCOTICS', 'SCHOOL, PUBLIC, GROUNDS'),\n",
       " ('NARCOTICS', 'SCHOOL, PUBLIC, BUILDING'),\n",
       " ('ASSAULT', 'SCHOOL, PUBLIC, GROUNDS'),\n",
       " ('CRIMINAL TRESPASS', 'SCHOOL, PUBLIC, GROUNDS'),\n",
       " ('PUBLIC PEACE VIOLATION', 'SCHOOL, PRIVATE, BUILDING'),\n",
       " ('PUBLIC PEACE VIOLATION', 'SCHOOL, PUBLIC, BUILDING')]"
      ]
     },
     "execution_count": 35,
     "metadata": {},
     "output_type": "execute_result"
    }
   ],
   "source": [
    "%sql SELECT PRIMARY_TYPE, LOCATION_DESCRIPTION FROM CHICAGO_CRIME_DATA WHERE LOCATION_DESCRIPTION LIKE '%SCHOOL%'"
   ]
  },
  {
   "cell_type": "markdown",
   "metadata": {},
   "source": [
    "List the type of schools along with the average safety score for each type."
   ]
  },
  {
   "cell_type": "code",
   "execution_count": 38,
   "metadata": {},
   "outputs": [
    {
     "name": "stdout",
     "output_type": "stream",
     "text": [
      " * sqlite:///CHICAGO.db\n",
      "Done.\n"
     ]
    },
    {
     "data": {
      "text/html": [
       "<table>\n",
       "    <thead>\n",
       "        <tr>\n",
       "            <th>SCHOOL_TYPE</th>\n",
       "            <th>AVG_S_SCORE</th>\n",
       "        </tr>\n",
       "    </thead>\n",
       "    <tbody>\n",
       "        <tr>\n",
       "            <td>ES</td>\n",
       "            <td>49.52038369304557</td>\n",
       "        </tr>\n",
       "        <tr>\n",
       "            <td>HS</td>\n",
       "            <td>49.62352941176471</td>\n",
       "        </tr>\n",
       "        <tr>\n",
       "            <td>MS</td>\n",
       "            <td>48.0</td>\n",
       "        </tr>\n",
       "    </tbody>\n",
       "</table>"
      ],
      "text/plain": [
       "[('ES', 49.52038369304557), ('HS', 49.62352941176471), ('MS', 48.0)]"
      ]
     },
     "execution_count": 38,
     "metadata": {},
     "output_type": "execute_result"
    }
   ],
   "source": [
    "%sql SELECT \"Elementary, Middle, or High School\" AS SCHOOL_TYPE, AVG(SAFETY_SCORE) AS AVG_S_SCORE FROM CHICAGO_PUBLIC_SCHOOLS GROUP BY SCHOOL_TYPE"
   ]
  },
  {
   "cell_type": "markdown",
   "metadata": {},
   "source": [
    "List 5 community areas with highest % of households below poverty line."
   ]
  },
  {
   "cell_type": "code",
   "execution_count": 40,
   "metadata": {},
   "outputs": [
    {
     "name": "stdout",
     "output_type": "stream",
     "text": [
      " * sqlite:///CHICAGO.db\n",
      "Done.\n"
     ]
    },
    {
     "data": {
      "text/html": [
       "<table>\n",
       "    <thead>\n",
       "        <tr>\n",
       "            <th>COMMUNITY_AREA_NAME</th>\n",
       "            <th>PERCENT_HOUSEHOLDS_BELOW_POVERTY</th>\n",
       "        </tr>\n",
       "    </thead>\n",
       "    <tbody>\n",
       "        <tr>\n",
       "            <td>Riverdale</td>\n",
       "            <td>56.5</td>\n",
       "        </tr>\n",
       "        <tr>\n",
       "            <td>Fuller Park</td>\n",
       "            <td>51.2</td>\n",
       "        </tr>\n",
       "        <tr>\n",
       "            <td>Englewood</td>\n",
       "            <td>46.6</td>\n",
       "        </tr>\n",
       "        <tr>\n",
       "            <td>North Lawndale</td>\n",
       "            <td>43.1</td>\n",
       "        </tr>\n",
       "        <tr>\n",
       "            <td>East Garfield Park</td>\n",
       "            <td>42.4</td>\n",
       "        </tr>\n",
       "    </tbody>\n",
       "</table>"
      ],
      "text/plain": [
       "[('Riverdale', 56.5),\n",
       " ('Fuller Park', 51.2),\n",
       " ('Englewood', 46.6),\n",
       " ('North Lawndale', 43.1),\n",
       " ('East Garfield Park', 42.4)]"
      ]
     },
     "execution_count": 40,
     "metadata": {},
     "output_type": "execute_result"
    }
   ],
   "source": [
    "%sql SELECT COMMUNITY_AREA_NAME, PERCENT_HOUSEHOLDS_BELOW_POVERTY FROM CENSUS_DATA ORDER BY PERCENT_HOUSEHOLDS_BELOW_POVERTY DESC LIMIT 5"
   ]
  },
  {
   "cell_type": "markdown",
   "metadata": {},
   "source": [
    "Which community area is most crime prone? Display the coumminty area number only."
   ]
  },
  {
   "cell_type": "code",
   "execution_count": 42,
   "metadata": {},
   "outputs": [
    {
     "name": "stdout",
     "output_type": "stream",
     "text": [
      " * sqlite:///CHICAGO.db\n",
      "Done.\n"
     ]
    },
    {
     "data": {
      "text/html": [
       "<table>\n",
       "    <thead>\n",
       "        <tr>\n",
       "            <th>COMMUNITY_AREA_NUMBER</th>\n",
       "            <th>COUNT(PRIMARY_TYPE)</th>\n",
       "        </tr>\n",
       "    </thead>\n",
       "    <tbody>\n",
       "        <tr>\n",
       "            <td>25.0</td>\n",
       "            <td>43</td>\n",
       "        </tr>\n",
       "    </tbody>\n",
       "</table>"
      ],
      "text/plain": [
       "[(25.0, 43)]"
      ]
     },
     "execution_count": 42,
     "metadata": {},
     "output_type": "execute_result"
    }
   ],
   "source": [
    "%sql SELECT COMMUNITY_AREA_NUMBER, COUNT(PRIMARY_TYPE) FROM CHICAGO_CRIME_DATA GROUP BY COMMUNITY_AREA_NUMBER ORDER BY COUNT(PRIMARY_TYPE) DESC LIMIT 1"
   ]
  },
  {
   "cell_type": "markdown",
   "metadata": {},
   "source": [
    "Use a sub-query to find the name of the community area with highest hardship index"
   ]
  },
  {
   "cell_type": "code",
   "execution_count": 45,
   "metadata": {},
   "outputs": [
    {
     "name": "stdout",
     "output_type": "stream",
     "text": [
      " * sqlite:///CHICAGO.db\n",
      "Done.\n"
     ]
    },
    {
     "data": {
      "text/html": [
       "<table>\n",
       "    <thead>\n",
       "        <tr>\n",
       "            <th>COMMUNITY_AREA_NAME</th>\n",
       "        </tr>\n",
       "    </thead>\n",
       "    <tbody>\n",
       "        <tr>\n",
       "            <td>Riverdale</td>\n",
       "        </tr>\n",
       "    </tbody>\n",
       "</table>"
      ],
      "text/plain": [
       "[('Riverdale',)]"
      ]
     },
     "execution_count": 45,
     "metadata": {},
     "output_type": "execute_result"
    }
   ],
   "source": [
    "%sql SELECT COMMUNITY_AREA_NAME FROM CENSUS_DATA WHERE HARDSHIP_INDEX = (SELECT MAX(HARDSHIP_INDEX) FROM CENSUS_DATA)"
   ]
  },
  {
   "cell_type": "markdown",
   "metadata": {},
   "source": [
    "Use a sub-query to determine the Community Area Name with most number of crimes?"
   ]
  }
 ],
 "metadata": {
  "kernelspec": {
   "display_name": "myvenv",
   "language": "python",
   "name": "python3"
  },
  "language_info": {
   "codemirror_mode": {
    "name": "ipython",
    "version": 3
   },
   "file_extension": ".py",
   "mimetype": "text/x-python",
   "name": "python",
   "nbconvert_exporter": "python",
   "pygments_lexer": "ipython3",
   "version": "3.13.1"
  }
 },
 "nbformat": 4,
 "nbformat_minor": 2
}
